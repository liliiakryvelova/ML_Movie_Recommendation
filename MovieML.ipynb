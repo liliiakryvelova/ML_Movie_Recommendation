{
 "cells": [
  {
   "cell_type": "code",
   "execution_count": 1,
   "id": "a9d868c2",
   "metadata": {},
   "outputs": [],
   "source": [
    "import pandas as pd\n",
    "movies_path = '~/Course_Python/data_splitting/Movie-Recommendation-System-ML/archive/movie.csv'\n",
    "ratings_path = '~/Course_Python/data_splitting/Movie-Recommendation-System-ML/archive/rating.csv'\n",
    "tags_path = '~/Course_Python/data_splitting/Movie-Recommendation-System-ML/archive/tag.csv'\n",
    "links_path = '~/Course_Python/data_splitting/Movie-Recommendation-System-ML/archive/link.csv'\n",
    "genome_tags_path = '~/Course_Python/data_splitting/Movie-Recommendation-System-ML/archive/genome_tags.csv'\n",
    "genome_scores_path = '~/Course_Python/data_splitting/Movie-Recommendation-System-ML/archive/genome_scores.csv'"
   ]
  },
  {
   "cell_type": "code",
   "execution_count": 2,
   "id": "b8e08d21",
   "metadata": {},
   "outputs": [
    {
     "name": "stdout",
     "output_type": "stream",
     "text": [
      "   movieId                               title  \\\n",
      "0        1                    Toy Story (1995)   \n",
      "1        2                      Jumanji (1995)   \n",
      "2        3             Grumpier Old Men (1995)   \n",
      "3        4            Waiting to Exhale (1995)   \n",
      "4        5  Father of the Bride Part II (1995)   \n",
      "\n",
      "                                        genres  \n",
      "0  Adventure|Animation|Children|Comedy|Fantasy  \n",
      "1                   Adventure|Children|Fantasy  \n",
      "2                               Comedy|Romance  \n",
      "3                         Comedy|Drama|Romance  \n",
      "4                                       Comedy  \n"
     ]
    }
   ],
   "source": [
    "movies = pd.read_csv(movies_path)\n",
    "print( movies.head())"
   ]
  },
  {
   "cell_type": "code",
   "execution_count": 6,
   "id": "6060a28d",
   "metadata": {},
   "outputs": [
    {
     "name": "stdout",
     "output_type": "stream",
     "text": [
      "   userId  movieId  rating            timestamp\n",
      "0       1        2     3.5  2005-04-02 23:53:47\n",
      "1       1       29     3.5  2005-04-02 23:31:16\n",
      "2       1       32     3.5  2005-04-02 23:33:39\n",
      "3       1       47     3.5  2005-04-02 23:32:07\n",
      "4       1       50     3.5  2005-04-02 23:29:40\n",
      "   userId  movieId  rating            timestamp  \\\n",
      "0       1        2     3.5  2005-04-02 23:53:47   \n",
      "1       1       29     3.5  2005-04-02 23:31:16   \n",
      "2       1       32     3.5  2005-04-02 23:33:39   \n",
      "3       1       47     3.5  2005-04-02 23:32:07   \n",
      "4       1       50     3.5  2005-04-02 23:29:40   \n",
      "\n",
      "                                               title  \\\n",
      "0                                     Jumanji (1995)   \n",
      "1  City of Lost Children, The (Cité des enfants p...   \n",
      "2          Twelve Monkeys (a.k.a. 12 Monkeys) (1995)   \n",
      "3                        Seven (a.k.a. Se7en) (1995)   \n",
      "4                         Usual Suspects, The (1995)   \n",
      "\n",
      "                                   genres  \n",
      "0              Adventure|Children|Fantasy  \n",
      "1  Adventure|Drama|Fantasy|Mystery|Sci-Fi  \n",
      "2                 Mystery|Sci-Fi|Thriller  \n",
      "3                        Mystery|Thriller  \n",
      "4                  Crime|Mystery|Thriller  \n"
     ]
    }
   ],
   "source": [
    "ratings = pd.read_csv(ratings_path)\n",
    "print(ratings.head())\n",
    "  # contains userId, movieId, rating, timestamp\n",
    "\n",
    "# Merge on 'movieId' to get title and genres for each rating\n",
    "df = pd.merge(ratings, movies, on='movieId')\n",
    "\n",
    "# Example preview\n",
    "print(df.head())"
   ]
  },
  {
   "cell_type": "code",
   "execution_count": 7,
   "id": "db08b0ae",
   "metadata": {},
   "outputs": [
    {
     "name": "stdout",
     "output_type": "stream",
     "text": [
      "Accuracy: 0.687\n",
      "Confusion Matrix:\n",
      "[[ 894859  664110]\n",
      " [ 587375 1853709]]\n",
      "Accuracy on all data: 0.688\n",
      "Confusion Matrix (all data):\n",
      "[[4491543 3313154]\n",
      " [2924195 9271371]]\n"
     ]
    }
   ],
   "source": [
    "import pandas as pd\n",
    "from sklearn.model_selection import train_test_split\n",
    "from sklearn.feature_extraction.text import TfidfVectorizer\n",
    "from sklearn.naive_bayes import MultinomialNB\n",
    "from sklearn.metrics import accuracy_score, confusion_matrix\n",
    "\n",
    "# Use movie titles or genres as the review text\n",
    "reviews = df['title']  # Or you could use ratings['genres']\n",
    "\n",
    "# Generate sentiments based on ratings\n",
    "sentiments = (ratings['rating'] >= 3.5).astype(int)  # 1 for positive, 0 for negative\n",
    "\n",
    "# Split into training and test sets\n",
    "X_train, X_test, y_train, y_test = train_test_split(reviews, sentiments, test_size=0.2, random_state=24)\n",
    "\n",
    "# Convert text into numerical features using TF-IDF\n",
    "tf_idf = TfidfVectorizer(ngram_range=(1, 3))\n",
    "X_train_tfidf = tf_idf.fit_transform(X_train)\n",
    "X_test_tfidf = tf_idf.transform(X_test)\n",
    "\n",
    "# Train Multinomial Naive Bayes model\n",
    "mnb_model = MultinomialNB()\n",
    "mnb_model.fit(X_train_tfidf, y_train)\n",
    "\n",
    "# Make predictions\n",
    "preds = mnb_model.predict(X_test_tfidf)\n",
    "\n",
    "# Evaluate the model\n",
    "print(f\"Accuracy: {accuracy_score(y_test, preds):.3f}\")\n",
    "print(\"Confusion Matrix:\")\n",
    "print(confusion_matrix(y_test, preds))\n",
    "\n",
    "# Optionally, train on the entire dataset\n",
    "X_tfidf = tf_idf.fit_transform(reviews)\n",
    "mnb_model.fit(X_tfidf, sentiments)\n",
    "preds_all = mnb_model.predict(X_tfidf)\n",
    "print(f\"Accuracy on all data: {accuracy_score(sentiments, preds_all):.3f}\")\n",
    "print(\"Confusion Matrix (all data):\")\n",
    "print(confusion_matrix(sentiments, preds_all))\n"
   ]
  },
  {
   "cell_type": "code",
   "execution_count": 8,
   "id": "ab266de7",
   "metadata": {},
   "outputs": [],
   "source": [
    "def recommend_by_model(genre_keyword, model, tfidf_vectorizer, movies_df, top_n=10):\n",
    "    # Filter movies that contain the genre\n",
    "    genre_filtered = movies_df[movies_df['genres'].str.contains(genre_keyword, case=False, na=False)]\n",
    "\n",
    "    # Remove duplicates (some movieIds can repeat)\n",
    "    genre_filtered = genre_filtered.drop_duplicates(subset='movieId')\n",
    "\n",
    "    # Get genre text\n",
    "    genres_text = genre_filtered['genres']\n",
    "\n",
    "    # Transform genres using same TF-IDF vectorizer\n",
    "    X = tfidf_vectorizer.transform(genres_text)\n",
    "\n",
    "    # Predict sentiment (1 = positive, 0 = negative)\n",
    "    preds = model.predict(X)\n",
    "\n",
    "    # Add predictions to the filtered dataframe\n",
    "    genre_filtered = genre_filtered.copy()\n",
    "    genre_filtered['predicted_sentiment'] = preds\n",
    "\n",
    "    # Recommend top N with predicted sentiment = 1\n",
    "    recommendations = genre_filtered[genre_filtered['predicted_sentiment'] == 1]\n",
    "\n",
    "    return recommendations[['title', 'genres']].head(top_n)\n"
   ]
  },
  {
   "cell_type": "code",
   "execution_count": 11,
   "id": "60d6ab11",
   "metadata": {},
   "outputs": [
    {
     "name": "stdout",
     "output_type": "stream",
     "text": [
      "                            title                            genres\n",
      "20              Get Shorty (1995)             Comedy|Crime|Thriller\n",
      "46    Seven (a.k.a. Se7en) (1995)                  Mystery|Thriller\n",
      "130                   Jade (1995)                          Thriller\n",
      "162  Devil in a Blue Dress (1995)  Crime|Film-Noir|Mystery|Thriller\n",
      "181           Mute Witness (1994)            Comedy|Horror|Thriller\n"
     ]
    }
   ],
   "source": [
    "# movies is your original movies dataframe (movieId, title, genres)\n",
    "\n",
    "recommendations = recommend_by_model(\n",
    "    genre_keyword=\"Drama|Thriller\",\n",
    "    model=mnb_model,\n",
    "    tfidf_vectorizer=tf_idf,\n",
    "    movies_df=movies,\n",
    "    top_n=5\n",
    ")\n",
    "\n",
    "print(recommendations)"
   ]
  }
 ],
 "metadata": {
  "kernelspec": {
   "display_name": "DataSciEnv",
   "language": "python",
   "name": "python3"
  },
  "language_info": {
   "codemirror_mode": {
    "name": "ipython",
    "version": 3
   },
   "file_extension": ".py",
   "mimetype": "text/x-python",
   "name": "python",
   "nbconvert_exporter": "python",
   "pygments_lexer": "ipython3",
   "version": "3.12.9"
  }
 },
 "nbformat": 4,
 "nbformat_minor": 5
}
